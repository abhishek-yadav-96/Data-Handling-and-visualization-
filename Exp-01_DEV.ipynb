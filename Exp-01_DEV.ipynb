{
 "cells": [
  {
   "cell_type": "code",
   "execution_count": 1,
   "id": "9a156d62",
   "metadata": {},
   "outputs": [
    {
     "data": {
      "text/html": [
       "<table border=\"1\" class=\"dataframe\">\n",
       "    <thead>\n",
       "        <tr>\n",
       "            <th>Roll</th> <th>Name</th> <th>Marks</th>\n",
       "        </tr>\n",
       "    </thead>\n",
       "    <tbody>\n",
       "        <tr>\n",
       "            <td>3033</td> <td>abhi </td> <td>30   </td>\n",
       "        </tr>\n",
       "        <tr>\n",
       "            <td>3022</td> <td>rushi</td> <td>34   </td>\n",
       "        </tr>\n",
       "        <tr>\n",
       "            <td>3043</td> <td>om   </td> <td>32   </td>\n",
       "        </tr>\n",
       "    </tbody>\n",
       "</table>"
      ],
      "text/plain": [
       "Roll | Name  | Marks\n",
       "3033 | abhi  | 30\n",
       "3022 | rushi | 34\n",
       "3043 | om    | 32"
      ]
     },
     "execution_count": 1,
     "metadata": {},
     "output_type": "execute_result"
    }
   ],
   "source": [
    "# 3049\n",
    "import numpy as np\n",
    "from datascience import *\n",
    "Student = Table().with_columns('Roll', make_array(3033,3022,3043),\n",
    "    'Name',  make_array ('abhi', 'rushi', 'om'),\n",
    "    'Marks', make_array (30, 34, 32)\n",
    ")\n",
    "Student"
   ]
  },
  {
   "cell_type": "code",
   "execution_count": 3,
   "id": "f7ff4fee",
   "metadata": {},
   "outputs": [
    {
     "data": {
      "text/html": [
       "<table border=\"1\" class=\"dataframe\">\n",
       "    <thead>\n",
       "        <tr>\n",
       "            <th>Roll</th> <th>Name</th> <th>Marks</th>\n",
       "        </tr>\n",
       "    </thead>\n",
       "    <tbody>\n",
       "        <tr>\n",
       "            <td>3022</td> <td>rushi</td> <td>34   </td>\n",
       "        </tr>\n",
       "        <tr>\n",
       "            <td>3043</td> <td>om   </td> <td>32   </td>\n",
       "        </tr>\n",
       "    </tbody>\n",
       "</table>"
      ],
      "text/plain": [
       "Roll | Name  | Marks\n",
       "3022 | rushi | 34\n",
       "3043 | om    | 32"
      ]
     },
     "execution_count": 3,
     "metadata": {},
     "output_type": "execute_result"
    }
   ],
   "source": [
    "#3049\n",
    "Student_selected=Student.take(np.arange(1, 3))\n",
    "Student_selected"
   ]
  },
  {
   "cell_type": "code",
   "execution_count": 4,
   "id": "55960eb6",
   "metadata": {},
   "outputs": [
    {
     "data": {
      "text/html": [
       "<table border=\"1\" class=\"dataframe\">\n",
       "    <thead>\n",
       "        <tr>\n",
       "            <th>Roll</th> <th>Name</th> <th>Marks</th> <th>Rank</th>\n",
       "        </tr>\n",
       "    </thead>\n",
       "    <tbody>\n",
       "        <tr>\n",
       "            <td>3033</td> <td>abhi </td> <td>30   </td> <td>1   </td>\n",
       "        </tr>\n",
       "        <tr>\n",
       "            <td>3022</td> <td>rushi</td> <td>34   </td> <td>2   </td>\n",
       "        </tr>\n",
       "        <tr>\n",
       "            <td>3043</td> <td>om   </td> <td>32   </td> <td>3   </td>\n",
       "        </tr>\n",
       "    </tbody>\n",
       "</table>"
      ],
      "text/plain": [
       "Roll | Name  | Marks | Rank\n",
       "3033 | abhi  | 30    | 1\n",
       "3022 | rushi | 34    | 2\n",
       "3043 | om    | 32    | 3"
      ]
     },
     "execution_count": 4,
     "metadata": {},
     "output_type": "execute_result"
    }
   ],
   "source": [
    "#3039\n",
    "Student=Student.with_columns('Rank',make_array(1,2,3))\n",
    "Student"
   ]
  },
  {
   "cell_type": "code",
   "execution_count": 5,
   "id": "74b8b9ad",
   "metadata": {},
   "outputs": [
    {
     "data": {
      "text/html": [
       "<table border=\"1\" class=\"dataframe\">\n",
       "    <thead>\n",
       "        <tr>\n",
       "            <th>Roll</th> <th>Name</th> <th>Marks</th> <th>Rank</th>\n",
       "        </tr>\n",
       "    </thead>\n",
       "    <tbody>\n",
       "        <tr>\n",
       "            <td>3033</td> <td>abhi </td> <td>30   </td> <td>1   </td>\n",
       "        </tr>\n",
       "        <tr>\n",
       "            <td>3022</td> <td>rushi</td> <td>34   </td> <td>2   </td>\n",
       "        </tr>\n",
       "        <tr>\n",
       "            <td>3043</td> <td>om   </td> <td>32   </td> <td>3   </td>\n",
       "        </tr>\n",
       "    </tbody>\n",
       "</table>"
      ],
      "text/plain": [
       "Roll | Name  | Marks | Rank\n",
       "3033 | abhi  | 30    | 1\n",
       "3022 | rushi | 34    | 2\n",
       "3043 | om    | 32    | 3"
      ]
     },
     "execution_count": 5,
     "metadata": {},
     "output_type": "execute_result"
    }
   ],
   "source": [
    "#3039\n",
    "Student=Student.sort(\"Rank\")\n",
    "Student"
   ]
  },
  {
   "cell_type": "code",
   "execution_count": 6,
   "id": "d0fc7034",
   "metadata": {},
   "outputs": [
    {
     "data": {
      "text/html": [
       "<table border=\"1\" class=\"dataframe\">\n",
       "    <thead>\n",
       "        <tr>\n",
       "            <th>Roll</th> <th>Name</th> <th>Marks</th> <th>Rank</th>\n",
       "        </tr>\n",
       "    </thead>\n",
       "    <tbody>\n",
       "        <tr>\n",
       "            <td>3043</td> <td>om   </td> <td>32   </td> <td>3   </td>\n",
       "        </tr>\n",
       "        <tr>\n",
       "            <td>3022</td> <td>rushi</td> <td>34   </td> <td>2   </td>\n",
       "        </tr>\n",
       "        <tr>\n",
       "            <td>3033</td> <td>abhi </td> <td>30   </td> <td>1   </td>\n",
       "        </tr>\n",
       "    </tbody>\n",
       "</table>"
      ],
      "text/plain": [
       "Roll | Name  | Marks | Rank\n",
       "3043 | om    | 32    | 3\n",
       "3022 | rushi | 34    | 2\n",
       "3033 | abhi  | 30    | 1"
      ]
     },
     "execution_count": 6,
     "metadata": {},
     "output_type": "execute_result"
    }
   ],
   "source": [
    "#3039\n",
    "Student=Student.sort(\"Rank\", descending=True)\n",
    "Student"
   ]
  },
  {
   "cell_type": "code",
   "execution_count": null,
   "id": "271bc2f7",
   "metadata": {},
   "outputs": [],
   "source": []
  }
 ],
 "metadata": {
  "kernelspec": {
   "display_name": "Python 3 (ipykernel)",
   "language": "python",
   "name": "python3"
  },
  "language_info": {
   "codemirror_mode": {
    "name": "ipython",
    "version": 3
   },
   "file_extension": ".py",
   "mimetype": "text/x-python",
   "name": "python",
   "nbconvert_exporter": "python",
   "pygments_lexer": "ipython3",
   "version": "3.11.5"
  }
 },
 "nbformat": 4,
 "nbformat_minor": 5
}
